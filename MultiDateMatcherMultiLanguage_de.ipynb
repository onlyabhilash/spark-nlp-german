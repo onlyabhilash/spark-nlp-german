{
  "cells": [
    {
      "cell_type": "markdown",
      "metadata": {
        "id": "view-in-github",
        "colab_type": "text"
      },
      "source": [
        "<a href=\"https://colab.research.google.com/github/onlyabhilash/spark-nlp-german/blob/main/MultiDateMatcherMultiLanguage_de.ipynb\" target=\"_parent\"><img src=\"https://colab.research.google.com/assets/colab-badge.svg\" alt=\"Open In Colab\"/></a>"
      ]
    },
    {
      "cell_type": "code",
      "execution_count": null,
      "id": "d1a9947b",
      "metadata": {
        "id": "d1a9947b"
      },
      "outputs": [],
      "source": [
        "from pyspark import *\n",
        "import sparknlp"
      ]
    },
    {
      "cell_type": "code",
      "execution_count": null,
      "id": "1d695f9d",
      "metadata": {
        "id": "1d695f9d",
        "outputId": "bb5eb9c1-92a8-4b0f-e50b-0884e63cf42a"
      },
      "outputs": [
        {
          "data": {
            "text/html": [
              "\n",
              "            <div>\n",
              "                <p><b>SparkSession - hive</b></p>\n",
              "                \n",
              "        <div>\n",
              "            <p><b>SparkContext</b></p>\n",
              "\n",
              "            <p><a href=\"http://desktop-gmcvtp0.home:4040\">Spark UI</a></p>\n",
              "\n",
              "            <dl>\n",
              "              <dt>Version</dt>\n",
              "                <dd><code>v3.0.2</code></dd>\n",
              "              <dt>Master</dt>\n",
              "                <dd><code>local[*]</code></dd>\n",
              "              <dt>AppName</dt>\n",
              "                <dd><code>PySparkShell</code></dd>\n",
              "            </dl>\n",
              "        </div>\n",
              "        \n",
              "            </div>\n",
              "        "
            ],
            "text/plain": [
              "<pyspark.sql.session.SparkSession at 0x7f39dc6ae750>"
            ]
          },
          "execution_count": 2,
          "metadata": {},
          "output_type": "execute_result"
        }
      ],
      "source": [
        "sparknlp.start()"
      ]
    },
    {
      "cell_type": "code",
      "execution_count": null,
      "id": "6edb5c48",
      "metadata": {
        "id": "6edb5c48"
      },
      "outputs": [],
      "source": [
        "from sparknlp.annotator import *\n",
        "from sparknlp.base import *"
      ]
    },
    {
      "cell_type": "code",
      "execution_count": null,
      "id": "b072abfa",
      "metadata": {
        "id": "b072abfa",
        "outputId": "54aad422-2787-478d-fe99-ad3ea9d7398f"
      },
      "outputs": [
        {
          "data": {
            "text/plain": [
              "'3.2.0'"
            ]
          },
          "execution_count": 4,
          "metadata": {},
          "output_type": "execute_result"
        }
      ],
      "source": [
        "sparknlp.version()"
      ]
    },
    {
      "cell_type": "code",
      "execution_count": null,
      "id": "84dc2c25",
      "metadata": {
        "id": "84dc2c25"
      },
      "outputs": [],
      "source": [
        "from pyspark.sql.types import StringType"
      ]
    },
    {
      "cell_type": "markdown",
      "id": "10a075ae",
      "metadata": {
        "id": "10a075ae"
      },
      "source": [
        "## German formatted dates matching examples"
      ]
    },
    {
      "cell_type": "code",
      "execution_count": null,
      "id": "3c6f02e6",
      "metadata": {
        "id": "3c6f02e6",
        "outputId": "dce5a41a-afe2-40c1-816d-32dfa8596c06"
      },
      "outputs": [
        {
          "name": "stdout",
          "output_type": "stream",
          "text": [
            "+--------------------+\n",
            "|                text|\n",
            "+--------------------+\n",
            "|Wir trafen uns am...|\n",
            "+--------------------+\n",
            "\n"
          ]
        }
      ],
      "source": [
        "df = spark.createDataFrame(\n",
        "  [\"Wir trafen uns am 13/05/2018 und dann am 18/05/2020.\"],\n",
        "  StringType()).toDF(\"text\")\n",
        "df.show()"
      ]
    },
    {
      "cell_type": "code",
      "execution_count": null,
      "id": "02a6ce5c",
      "metadata": {
        "id": "02a6ce5c",
        "outputId": "d26f79dd-3e3e-4f19-9816-2cb03f4b6371"
      },
      "outputs": [
        {
          "name": "stdout",
          "output_type": "stream",
          "text": [
            "+--------------------------------------------------------------------------------------------------+\n",
            "|date                                                                                              |\n",
            "+--------------------------------------------------------------------------------------------------+\n",
            "|[[date, 18, 27, 05/13/2018, [sentence -> 0], []], [date, 41, 50, 05/18/2020, [sentence -> 0], []]]|\n",
            "+--------------------------------------------------------------------------------------------------+\n",
            "\n"
          ]
        }
      ],
      "source": [
        "document_assembler = DocumentAssembler() \\\n",
        "            .setInputCol(\"text\") \\\n",
        "            .setOutputCol(\"document\")\n",
        "\n",
        "date_matcher = MultiDateMatcher() \\\n",
        "            .setInputCols(['document']) \\\n",
        "            .setOutputCol(\"date\") \\\n",
        "            .setFormat(\"MM/dd/yyyy\") \\\n",
        "            .setSourceLanguage(\"de\")\n",
        "\n",
        "assembled = document_assembler.transform(df)\n",
        "date_matcher.transform(assembled).select(\"date\").show(10, False)"
      ]
    },
    {
      "cell_type": "markdown",
      "id": "5d3c8b51",
      "metadata": {
        "id": "5d3c8b51"
      },
      "source": [
        "## German unformatted dates matching examples"
      ]
    },
    {
      "cell_type": "code",
      "execution_count": null,
      "id": "454e4569",
      "metadata": {
        "id": "454e4569",
        "outputId": "5b34d267-dec0-4c6d-c3e0-2d5ae9c89a4c"
      },
      "outputs": [
        {
          "name": "stdout",
          "output_type": "stream",
          "text": [
            "+--------------------+\n",
            "|                text|\n",
            "+--------------------+\n",
            "|Wir haben uns vor...|\n",
            "+--------------------+\n",
            "\n"
          ]
        }
      ],
      "source": [
        "df = spark.createDataFrame(\n",
        "  [\"Wir haben uns vor 2 tagen kennengelernt und sie sagten mir, dass sie uns nächste woche besuchen würden.\"],\n",
        "  StringType()).toDF(\"text\")\n",
        "df.show()"
      ]
    },
    {
      "cell_type": "code",
      "execution_count": null,
      "id": "0f7ad78b",
      "metadata": {
        "id": "0f7ad78b",
        "outputId": "7ed1db35-cb5a-4d03-94dd-60e8a9440601"
      },
      "outputs": [
        {
          "name": "stdout",
          "output_type": "stream",
          "text": [
            "+--------------------------------------------------------------------------------------------------+\n",
            "|date                                                                                              |\n",
            "+--------------------------------------------------------------------------------------------------+\n",
            "|[[date, 14, 23, 08/07/2021, [sentence -> 0], []], [date, 85, 93, 08/16/2021, [sentence -> 0], []]]|\n",
            "+--------------------------------------------------------------------------------------------------+\n",
            "\n"
          ]
        }
      ],
      "source": [
        "document_assembler = DocumentAssembler() \\\n",
        "            .setInputCol(\"text\") \\\n",
        "            .setOutputCol(\"document\")\n",
        "\n",
        "date_matcher = MultiDateMatcher() \\\n",
        "            .setInputCols(['document']) \\\n",
        "            .setOutputCol(\"date\") \\\n",
        "            .setFormat(\"MM/dd/yyyy\") \\\n",
        "            .setSourceLanguage(\"de\")\n",
        "\n",
        "assembled = document_assembler.transform(df)\n",
        "date_matcher.transform(assembled).select(\"date\").show(10, False)"
      ]
    },
    {
      "cell_type": "markdown",
      "id": "9bb16cf4",
      "metadata": {
        "id": "9bb16cf4"
      },
      "source": [
        "# A short guide to language support extension\n",
        "\n",
        "## In order to extend the date matchers language support for new languages, please follow the instructions below:\n",
        "\n",
        "1. Add the new dictionary into src/main/resources/date-matcher/translation-dictionaries/dynamic folder of the spark-nlp project\n",
        "2. Add the same dictionary base of the other languages\n",
        "   * Add tests for the dictionary\n",
        "3. Add other eventual specific expressions to the base\n",
        "   * Add tests for those specific expressions to avoid syntactic conflicts in parsing\n",
        "4. Add a notebook like this one to show how to use the language extension\n",
        "\n",
        "Thank you for contributing! :)"
      ]
    },
    {
      "cell_type": "code",
      "execution_count": null,
      "id": "8d604d5d",
      "metadata": {
        "id": "8d604d5d"
      },
      "outputs": [],
      "source": [
        ""
      ]
    }
  ],
  "metadata": {
    "kernelspec": {
      "display_name": "Python 3",
      "language": "python",
      "name": "python3"
    },
    "language_info": {
      "codemirror_mode": {
        "name": "ipython",
        "version": 3
      },
      "file_extension": ".py",
      "mimetype": "text/x-python",
      "name": "python",
      "nbconvert_exporter": "python",
      "pygments_lexer": "ipython3",
      "version": "3.7.11"
    },
    "colab": {
      "name": "MultiDateMatcherMultiLanguage_de.ipynb",
      "provenance": [],
      "include_colab_link": true
    }
  },
  "nbformat": 4,
  "nbformat_minor": 5
}