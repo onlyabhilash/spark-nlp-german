{
  "cells": [
    {
      "cell_type": "markdown",
      "metadata": {
        "id": "view-in-github",
        "colab_type": "text"
      },
      "source": [
        "<a href=\"https://colab.research.google.com/github/onlyabhilash/spark-nlp-german/blob/main/date_matcher_multi_language_de.ipynb\" target=\"_parent\"><img src=\"https://colab.research.google.com/assets/colab-badge.svg\" alt=\"Open In Colab\"/></a>"
      ]
    },
    {
      "cell_type": "markdown",
      "metadata": {
        "id": "saDuQVjPf0nI"
      },
      "source": [
        "# DateMatcher multi-language\n",
        "\n",
        "#### This annotator allows you to specify a source language that will be used to identify temporal keywords and extract dates."
      ]
    },
    {
      "cell_type": "code",
      "execution_count": null,
      "metadata": {
        "application/vnd.databricks.v1+cell": {
          "inputWidgets": {},
          "nuid": "943a272c-0686-4e02-a8d9-b2849721c829",
          "showTitle": false,
          "title": ""
        },
        "id": "1upeqRtof0nR"
      },
      "outputs": [],
      "source": [
        "# Import Spark NLP\n",
        "from sparknlp.base import *\n",
        "from sparknlp.annotator import *\n",
        "from sparknlp.pretrained import PretrainedPipeline\n",
        "import sparknlp\n",
        "\n",
        "# Start Spark Session with Spark NLP\n",
        "# start() functions has two parameters: gpu and spark23\n",
        "# sparknlp.start(gpu=True) will start the session with GPU support\n",
        "# sparknlp.start(spark23=True) is when you have Apache Spark 2.3.x installed\n",
        "spark = sparknlp.start()"
      ]
    },
    {
      "cell_type": "code",
      "execution_count": null,
      "metadata": {
        "application/vnd.databricks.v1+cell": {
          "inputWidgets": {},
          "nuid": "b200e2aa-6280-4f51-9eb4-e30f660e2ba4",
          "showTitle": false,
          "title": ""
        },
        "id": "FpTU4qj1f0nU",
        "outputId": "5ca82ba8-75d5-47bc-b2ce-b1bb8ed396b6"
      },
      "outputs": [
        {
          "data": {
            "text/html": [
              "\n",
              "            <div>\n",
              "                <p><b>SparkSession - hive</b></p>\n",
              "                \n",
              "        <div>\n",
              "            <p><b>SparkContext</b></p>\n",
              "\n",
              "            <p><a href=\"http://192.168.43.227:4045\">Spark UI</a></p>\n",
              "\n",
              "            <dl>\n",
              "              <dt>Version</dt>\n",
              "                <dd><code>v3.0.2</code></dd>\n",
              "              <dt>Master</dt>\n",
              "                <dd><code>local[*]</code></dd>\n",
              "              <dt>AppName</dt>\n",
              "                <dd><code>PySparkShell</code></dd>\n",
              "            </dl>\n",
              "        </div>\n",
              "        \n",
              "            </div>\n",
              "        "
            ],
            "text/plain": [
              "<pyspark.sql.session.SparkSession at 0x7fe3f1daec50>"
            ]
          },
          "execution_count": 6,
          "metadata": {},
          "output_type": "execute_result"
        }
      ],
      "source": [
        "spark"
      ]
    },
    {
      "cell_type": "code",
      "execution_count": null,
      "metadata": {
        "application/vnd.databricks.v1+cell": {
          "inputWidgets": {},
          "nuid": "c0b759a0-346f-4d9f-9f01-383124c0aa05",
          "showTitle": false,
          "title": ""
        },
        "id": "XmdFg6qgf0nV",
        "outputId": "e1a721a5-fc68-47b4-fe0f-8875074e6deb"
      },
      "outputs": [
        {
          "data": {
            "text/plain": [
              "'3.1.2'"
            ]
          },
          "execution_count": 7,
          "metadata": {},
          "output_type": "execute_result"
        }
      ],
      "source": [
        "sparknlp.version()"
      ]
    },
    {
      "cell_type": "markdown",
      "metadata": {
        "id": "OLz5DB8if0nX"
      },
      "source": [
        "# German examples"
      ]
    },
    {
      "cell_type": "markdown",
      "metadata": {
        "id": "nvzHRuauf0nY"
      },
      "source": [
        "### Let's import some articoles sentences from the news where relative dates are present."
      ]
    },
    {
      "cell_type": "code",
      "execution_count": null,
      "metadata": {
        "application/vnd.databricks.v1+cell": {
          "inputWidgets": {},
          "nuid": "a91c2626-5ef8-4e01-9563-120daf4f63f3",
          "showTitle": false,
          "title": ""
        },
        "id": "UJhg7QGdf0nY"
      },
      "outputs": [],
      "source": [
        "de_articles = [\n",
        "  (\"Am Sonntag, 11. Juli 2021, benutzte Chiellini das Wort Kiricocho, als Saka sich dem Ball zum Elfmeter näherte.\",),\n",
        "  (\"Die nächste WM findet im November 2022 statt.\",),\n",
        "]"
      ]
    },
    {
      "cell_type": "markdown",
      "metadata": {
        "id": "W8UPvxyJf0nZ"
      },
      "source": [
        "### Let's  fill a DataFrame with the text column"
      ]
    },
    {
      "cell_type": "code",
      "execution_count": null,
      "metadata": {
        "application/vnd.databricks.v1+cell": {
          "inputWidgets": {},
          "nuid": "cfe3f9e0-4a96-44bb-b056-0b4a5407c6dc",
          "showTitle": false,
          "title": ""
        },
        "id": "JIi18QG-f0na",
        "outputId": "1995423b-fc1c-4bc8-da66-97b3a39b9d14"
      },
      "outputs": [
        {
          "name": "stdout",
          "output_type": "stream",
          "text": [
            "root\n",
            " |-- text: string (nullable = true)\n",
            "\n",
            "+--------------------+\n",
            "|                text|\n",
            "+--------------------+\n",
            "|Am Sonntag, 11. J...|\n",
            "|Die nächste WM fi...|\n",
            "+--------------------+\n",
            "\n"
          ]
        }
      ],
      "source": [
        "articles_cols = [\"text\"]\n",
        "\n",
        "df = spark.createDataFrame(data=de_articles, schema=articles_cols)\n",
        "\n",
        "df.printSchema()\n",
        "df.show()"
      ]
    },
    {
      "cell_type": "markdown",
      "metadata": {
        "id": "1wbXIDoPf0nb"
      },
      "source": [
        "### Now, let's create a simple pipeline to apply the DateMatcher, specifying the source language"
      ]
    },
    {
      "cell_type": "code",
      "execution_count": null,
      "metadata": {
        "application/vnd.databricks.v1+cell": {
          "inputWidgets": {},
          "nuid": "f4baf2a1-3e75-479e-9e9b-2b071624ee3d",
          "showTitle": false,
          "title": ""
        },
        "id": "MZrFUGF7f0nc"
      },
      "outputs": [],
      "source": [
        "document_assembler = DocumentAssembler() \\\n",
        "            .setInputCol(\"text\") \\\n",
        "            .setOutputCol(\"document\")\n",
        "\n",
        "date_matcher = DateMatcher() \\\n",
        "            .setInputCols(['document']) \\\n",
        "            .setOutputCol(\"date\") \\\n",
        "            .setFormat(\"MM/dd/yyyy\") \\\n",
        "            .setSourceLanguage(\"de\")"
      ]
    },
    {
      "cell_type": "code",
      "execution_count": null,
      "metadata": {
        "id": "EGgx9WYwf0nd"
      },
      "outputs": [],
      "source": [
        "### Let's transform the Data"
      ]
    },
    {
      "cell_type": "code",
      "execution_count": null,
      "metadata": {
        "application/vnd.databricks.v1+cell": {
          "inputWidgets": {},
          "nuid": "10380fbb-43c1-42c3-b6d0-f02e55d75a24",
          "showTitle": false,
          "title": ""
        },
        "id": "yLGereHLf0nd",
        "outputId": "bd5ad9c6-18b0-478f-9443-a76a3a2bb12b"
      },
      "outputs": [
        {
          "name": "stdout",
          "output_type": "stream",
          "text": [
            "+-------------------------------------------------+\n",
            "|date                                             |\n",
            "+-------------------------------------------------+\n",
            "|[[date, 10, 21, 07/11/2021, [sentence -> 0], []]]|\n",
            "|[[date, 25, 37, 11/01/2022, [sentence -> 0], []]]|\n",
            "+-------------------------------------------------+\n",
            "\n"
          ]
        }
      ],
      "source": [
        "assembled = document_assembler.transform(df)\n",
        "date_matcher.transform(assembled).select('date').show(10, False)"
      ]
    },
    {
      "cell_type": "code",
      "execution_count": null,
      "metadata": {
        "id": "WRy59x3-f0ne"
      },
      "outputs": [],
      "source": [
        ""
      ]
    }
  ],
  "metadata": {
    "application/vnd.databricks.v1+notebook": {
      "dashboards": [],
      "language": "python",
      "notebookMetadata": {
        "pythonIndentUnit": 2
      },
      "notebookName": "DateMatcherMultiLanguage_tests",
      "notebookOrigID": 2439167545177012,
      "widgets": {}
    },
    "kernelspec": {
      "display_name": "Python 3",
      "language": "python",
      "name": "python3"
    },
    "language_info": {
      "codemirror_mode": {
        "name": "ipython",
        "version": 3
      },
      "file_extension": ".py",
      "mimetype": "text/x-python",
      "name": "python",
      "nbconvert_exporter": "python",
      "pygments_lexer": "ipython3",
      "version": "3.7.10"
    },
    "colab": {
      "name": "date_matcher_multi_language_de.ipynb",
      "provenance": [],
      "include_colab_link": true
    }
  },
  "nbformat": 4,
  "nbformat_minor": 0
}